{
 "cells": [
  {
   "cell_type": "code",
   "execution_count": 44,
   "metadata": {},
   "outputs": [],
   "source": [
    "import numpy as np\n",
    "import pandas as pd\n",
    "import matplotlib.pyplot as plt\n",
    "\n",
    "from sklearn.svm import LinearSVC, SVC\n",
    "from sklearn.metrics import confusion_matrix"
   ]
  },
  {
   "cell_type": "code",
   "execution_count": 98,
   "metadata": {},
   "outputs": [],
   "source": [
    "x_train = pd.read_csv('Khan_xtrain.csv').drop('Unnamed: 0',axis=1)\n",
    "x_test = pd.read_csv('Khan_xtest.csv').drop('Unnamed: 0',axis=1)\n",
    "y_train = pd.read_csv('Khan_ytrain.csv').drop('Unnamed: 0',axis=1)\n",
    "y_test = pd.read_csv('Khan_ytest.csv').drop('Unnamed: 0',axis=1)"
   ]
  },
  {
   "cell_type": "code",
   "execution_count": 99,
   "metadata": {},
   "outputs": [
    {
     "name": "stdout",
     "output_type": "stream",
     "text": [
      "Shape of x_train dataset: (63, 2308)\n",
      "Shape of x_test dataset: (20, 2308)\n",
      "Shape of y_train dataset: (63, 1)\n",
      "Shape of y_test dataset: (20, 1)\n"
     ]
    }
   ],
   "source": [
    "print('Shape of x_train dataset: {}'.format(x_train.shape))\n",
    "print('Shape of x_test dataset: {}'.format(x_test.shape))\n",
    "print('Shape of y_train dataset: {}'.format(y_train.shape))\n",
    "print('Shape of y_test dataset: {}'.format(y_test.shape))"
   ]
  },
  {
   "cell_type": "code",
   "execution_count": 100,
   "metadata": {},
   "outputs": [],
   "source": [
    "x_train = x_train.iloc[:, :].values\n",
    "x_test = x_test.iloc[:, :].values"
   ]
  },
  {
   "cell_type": "code",
   "execution_count": 101,
   "metadata": {},
   "outputs": [],
   "source": [
    "y_train = y_train['x'].values\n",
    "y_test = y_test['x'].values"
   ]
  },
  {
   "cell_type": "markdown",
   "metadata": {},
   "source": [
    "### Support Vector Classifier"
   ]
  },
  {
   "cell_type": "code",
   "execution_count": 103,
   "metadata": {},
   "outputs": [],
   "source": [
    "# Creat the clasifier\n",
    "classifier = SVC(C = 10, kernel = 'linear')\n",
    "\n",
    "# Fit the classifier with training dataset\n",
    "result = classifier.fit(x_train, y_train)"
   ]
  },
  {
   "cell_type": "code",
   "execution_count": 104,
   "metadata": {},
   "outputs": [
    {
     "data": {
      "text/plain": [
       "array([[ 8,  0,  0,  0],\n",
       "       [ 0, 23,  0,  0],\n",
       "       [ 0,  0, 12,  0],\n",
       "       [ 0,  0,  0, 20]], dtype=int64)"
      ]
     },
     "execution_count": 104,
     "metadata": {},
     "output_type": "execute_result"
    }
   ],
   "source": [
    "# Predict on training dataset\n",
    "prediction = result.predict(x_train)\n",
    "\n",
    "# Confusion matric with training dataset\n",
    "cm = confusion_matrix(y_train, prediction)\n",
    "\n",
    "cm"
   ]
  },
  {
   "cell_type": "code",
   "execution_count": 105,
   "metadata": {},
   "outputs": [
    {
     "data": {
      "text/plain": [
       "array([[3, 0, 0, 0],\n",
       "       [0, 6, 0, 0],\n",
       "       [0, 2, 4, 0],\n",
       "       [0, 0, 0, 5]], dtype=int64)"
      ]
     },
     "execution_count": 105,
     "metadata": {},
     "output_type": "execute_result"
    }
   ],
   "source": [
    "# Predict on test dataset\n",
    "prediction = result.predict(x_test)\n",
    "\n",
    "# Confusion matric with test dataset\n",
    "cm = confusion_matrix(y_test, prediction)\n",
    "\n",
    "cm"
   ]
  },
  {
   "cell_type": "code",
   "execution_count": 106,
   "metadata": {},
   "outputs": [
    {
     "data": {
      "text/plain": [
       "[2, 2, 2, 2, 2]"
      ]
     },
     "execution_count": 106,
     "metadata": {},
     "output_type": "execute_result"
    }
   ],
   "source": [
    "# Lets find the optimum value of C\n",
    "false_class = []\n",
    "for c in [0.1, 5, 10, 50, 100]:\n",
    "    # Creat the clasifier\n",
    "    classifier = SVC(C = c, kernel = 'linear')\n",
    "\n",
    "    # Fit the classifier with training dataset\n",
    "    result = classifier.fit(x_train, y_train)\n",
    "    \n",
    "    # Predict on test dataset\n",
    "    prediction = result.predict(x_test)\n",
    "\n",
    "    # Confusion matric with test dataset\n",
    "    cm = confusion_matrix(y_test, prediction)\n",
    "    \n",
    "    false_class.append(sum(sum(cm)) - np.trace(cm))\n",
    "false_class"
   ]
  },
  {
   "cell_type": "code",
   "execution_count": null,
   "metadata": {},
   "outputs": [],
   "source": [
    "# It seems false classified results does not change by parameter C!!"
   ]
  }
 ],
 "metadata": {
  "kernelspec": {
   "display_name": "Python 3",
   "language": "python",
   "name": "python3"
  },
  "language_info": {
   "codemirror_mode": {
    "name": "ipython",
    "version": 3
   },
   "file_extension": ".py",
   "mimetype": "text/x-python",
   "name": "python",
   "nbconvert_exporter": "python",
   "pygments_lexer": "ipython3",
   "version": "3.7.6"
  }
 },
 "nbformat": 4,
 "nbformat_minor": 4
}
